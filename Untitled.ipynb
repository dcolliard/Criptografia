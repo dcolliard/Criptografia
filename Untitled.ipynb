{
 "cells": [
  {
   "cell_type": "code",
   "execution_count": 1,
   "id": "d80fd6b9",
   "metadata": {},
   "outputs": [
    {
     "name": "stdout",
     "output_type": "stream",
     "text": [
      "4c1e8f45\n",
      "\n",
      "Plaintext: b'\\x05\\xb9\\xc0\\xd1'\n",
      "\n"
     ]
    }
   ],
   "source": [
    "import binascii\n",
    "from cryptography.hazmat.backends import default_backend\n",
    "from cryptography.hazmat.primitives.asymmetric import rsa\n",
    "from cryptography.hazmat.primitives import serialization\n",
    "\n",
    "def expModular(a,b,n):\n",
    "    c = 1\n",
    "    p = a%n\n",
    "    while b>0:\n",
    "        if b%2==1:\n",
    "            c = (c*p)%n\n",
    "        b = b//2\n",
    "        p = pow(p,2)%n\n",
    "    return c\n",
    "\n",
    "def simple_rsa_encrypt(m, e,n):\n",
    "    return expModular(m,e,n)\n",
    "\n",
    "def simple_rsa_decrypt(c, d,n):\n",
    "    return expModular(c,d,n)\n",
    "#### DANGER ####\n",
    "\n",
    "def int_to_bytes(i):\n",
    "    # i might be a gmpy2 big integer; convert back to a Python int\n",
    "    i = int(i)\n",
    "    return i.to_bytes((i.bit_length()+7)//8, byteorder='big')\n",
    "\n",
    "def bytes_to_int(b):\n",
    "    return int.from_bytes(b, byteorder='big')\n",
    "\n",
    "message = \"c\".encode()\n",
    "message_as_int = bytes_to_int(message)\n",
    "cipher_as_int = expModular(message_as_int,2087929108,2621518637)\n",
    "cipher = int_to_bytes(cipher_as_int)\n",
    "cipher_hex = binascii.hexlify(cipher).decode()\n",
    "print(cipher_hex)\n",
    "\n",
    "\n",
    "cipher_hex = cipher_hex.encode()\n",
    "cipher = binascii.unhexlify(cipher_hex)\n",
    "cipher_as_int = bytes_to_int(cipher)\n",
    "message_as_int = expModular(cipher_as_int,320881051,2621518637)\n",
    "message = int_to_bytes(message_as_int)\n",
    "print(\"\\nPlaintext: {}\\n\".format(message))\n",
    "       "
   ]
  },
  {
   "cell_type": "code",
   "execution_count": 3,
   "id": "e7b5a93c",
   "metadata": {},
   "outputs": [
    {
     "data": {
      "text/plain": [
       "4"
      ]
     },
     "execution_count": 3,
     "metadata": {},
     "output_type": "execute_result"
    }
   ],
   "source": [
    "(2087929108 * 320881051) % 2621413596"
   ]
  },
  {
   "cell_type": "code",
   "execution_count": null,
   "id": "15c5c7e6",
   "metadata": {},
   "outputs": [],
   "source": [
    "def int_to_bytes(i):\n",
    "    i = int(i)\n",
    "    return i.to_bytes((i.bit_length()+7)//8, byteorder='big')\n",
    "\n",
    "def bytes_to_int(b):\n",
    "    return int.from_bytes(b, byteorder='big')\n",
    "\n",
    "def cifrarTexto(msje,claves):\n",
    "    print(\"--func: cifrar texto\")\n",
    "    e = claves['e']\n",
    "    n = claves['n']\n",
    "    msje = msje.encode()\n",
    "    m = int.from_bytes(msje, byteorder='big')\n",
    "    print(\"m: \"+str(m))\n",
    "    c = expModular(m,e,n)\n",
    "    print(\"c: \"+str(c))\n",
    "    texto_cifrado = c.to_bytes((c.bit_length()+7)//8, byteorder='big')\n",
    "    texto_cifrado = binascii.hexlify(texto_cifrado).decode()\n",
    "    return texto_cifrado\n",
    "\n",
    "def descifrarTexto(msje,d,n):\n",
    "    print(\"--func: descifrar texto\")\n",
    "    msje = msje.encode()\n",
    "    msje = binascii.unhexlify(msje)\n",
    "    c = int.from_bytes(msje, byteorder='big')\n",
    "    print(\"c: \"+str(c))\n",
    "    m = expModular(c,d,n)\n",
    "    print(\"m: \"+str(m))\n",
    "    texto_plano = m.to_bytes((m.bit_length()+7)//8, byteorder='big')\n",
    "\n",
    "    return texto_plano\n",
    "\n",
    "texto_plano = \"C\"\n",
    "textoCifrado = cifrarTexto(msje=texto_plano,claves=B.claves)\n",
    "print(\"texto cifrado\")\n",
    "print(textoCifrado)\n",
    "\n",
    "print(\"\")\n",
    "print(\"texto en claro\")\n",
    "texto = descifrarTexto(textoCifrado,B.claves[\"d\"],B.claves[\"n\"])\n",
    "print(texto)"
   ]
  }
 ],
 "metadata": {
  "hide_input": false,
  "kernelspec": {
   "display_name": "Python 3 (ipykernel)",
   "language": "python",
   "name": "python3"
  },
  "language_info": {
   "codemirror_mode": {
    "name": "ipython",
    "version": 3
   },
   "file_extension": ".py",
   "mimetype": "text/x-python",
   "name": "python",
   "nbconvert_exporter": "python",
   "pygments_lexer": "ipython3",
   "version": "3.10.9"
  },
  "varInspector": {
   "cols": {
    "lenName": "50",
    "lenType": 16,
    "lenVar": 40
   },
   "kernels_config": {
    "python": {
     "delete_cmd_postfix": "",
     "delete_cmd_prefix": "del ",
     "library": "var_list.py",
     "varRefreshCmd": "print(var_dic_list())"
    },
    "r": {
     "delete_cmd_postfix": ") ",
     "delete_cmd_prefix": "rm(",
     "library": "var_list.r",
     "varRefreshCmd": "cat(var_dic_list()) "
    }
   },
   "types_to_exclude": [
    "module",
    "function",
    "builtin_function_or_method",
    "instance",
    "_Feature"
   ],
   "window_display": false
  }
 },
 "nbformat": 4,
 "nbformat_minor": 5
}
