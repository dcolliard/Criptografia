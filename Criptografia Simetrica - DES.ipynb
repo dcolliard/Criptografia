{
 "cells": [
  {
   "cell_type": "code",
   "execution_count": 3,
   "id": "2e409263",
   "metadata": {},
   "outputs": [
    {
     "name": "stdout",
     "output_type": "stream",
     "text": [
      "Collecting pycryptodome\n",
      "  Downloading pycryptodome-3.19.0-cp35-abi3-win_amd64.whl (1.7 MB)\n",
      "     ---------------------------------------- 1.7/1.7 MB 2.4 MB/s eta 0:00:00\n",
      "Installing collected packages: pycryptodome\n",
      "Successfully installed pycryptodome-3.19.0\n",
      "Note: you may need to restart the kernel to use updated packages.\n"
     ]
    }
   ],
   "source": [
    "# para instalar libreria faltante\n",
    "#pip install pycryptodome"
   ]
  },
  {
   "cell_type": "code",
   "execution_count": 19,
   "id": "9c7ca038",
   "metadata": {},
   "outputs": [
    {
     "name": "stdout",
     "output_type": "stream",
     "text": [
      "El texto original es \"Criptografia 2028.-ñ\"\n",
      "\n",
      "El texto cifrado es b'\\xd2\\x9feS\\x9d\\xafO\\xc4\\xe5h\\xb5x\\xee\\xb4\\xfc\\x13\\x90\\x16\\xd9\\xb9\\xd1\\xb4*\\x7f\\x81=\\x0bDi\\x19h5'\n",
      "\n",
      "El texto plano es \"Criptografia 2028.-ñ\"\n",
      "\n"
     ]
    }
   ],
   "source": [
    "import os\n",
    "\n",
    "from Crypto.Cipher import DES\n",
    "from Crypto.Util.Padding import pad, unpad\n",
    "\n",
    "BLOCK_SIZE = 32 # Bytes\n",
    "\n",
    "clave = os.urandom(8)\n",
    "des = DES.new(clave, DES.MODE_ECB)\n",
    "\n",
    "def cifrar(des, cadena):\n",
    "    return des.encrypt(pad(bytes(cadena, 'utf-8'), BLOCK_SIZE))\n",
    "    \n",
    "def descifrar(des,cadena):\n",
    "    return unpad(des.decrypt(cadena), BLOCK_SIZE).decode()\n",
    "\n",
    "texto_original = 'Criptografia 2028.-ñ'\n",
    "\n",
    "texto_cifrado = cifrar(des, texto_original)\n",
    "\n",
    "texto_plano =  descifrar(des,texto_cifrado)\n",
    "\n",
    "print('El texto original es \"{}\"'.format(texto_original))\n",
    "print()\n",
    "print('El texto cifrado es {}'.format(texto_cifrado))\n",
    "print()\n",
    "print('El texto plano es \"{}\"'.format(texto_plano))\n",
    "print()"
   ]
  },
  {
   "cell_type": "code",
   "execution_count": 15,
   "id": "f7c971b8",
   "metadata": {},
   "outputs": [
    {
     "data": {
      "text/plain": [
       "b'yUA4\\x8dO\\x95:'"
      ]
     },
     "execution_count": 15,
     "metadata": {},
     "output_type": "execute_result"
    }
   ],
   "source": [
    "os.urandom(8)"
   ]
  },
  {
   "cell_type": "code",
   "execution_count": null,
   "id": "83323112",
   "metadata": {},
   "outputs": [],
   "source": []
  },
  {
   "cell_type": "code",
   "execution_count": null,
   "id": "05b13d8f",
   "metadata": {},
   "outputs": [],
   "source": []
  }
 ],
 "metadata": {
  "kernelspec": {
   "display_name": "Python 3 (ipykernel)",
   "language": "python",
   "name": "python3"
  },
  "language_info": {
   "codemirror_mode": {
    "name": "ipython",
    "version": 3
   },
   "file_extension": ".py",
   "mimetype": "text/x-python",
   "name": "python",
   "nbconvert_exporter": "python",
   "pygments_lexer": "ipython3",
   "version": "3.9.13"
  }
 },
 "nbformat": 4,
 "nbformat_minor": 5
}
