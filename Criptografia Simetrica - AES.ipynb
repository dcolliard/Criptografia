{
 "cells": [
  {
   "cell_type": "code",
   "execution_count": 2,
   "id": "9c7ca038",
   "metadata": {},
   "outputs": [
    {
     "name": "stdout",
     "output_type": "stream",
     "text": [
      "El texto original es \"Criptografia 2023hhgfghdfgdgfdgfdgfd vb 7889&/(/()())\"\n",
      "\n",
      "El texto cifrado es b'\\x1eTM_?\\x8b\\x1dGs\\xbd\\x8ek\\x8f)\\x17\\xd7\\xcfw\\xfd\\x8f\\xafj\\xc6a{k\\x15\\xac\\x9b*\\x91\\x8a0]M\\xf7\\x95?9\\xb5\\xa4\\x1fO_\\xa8\\x19\\x0fN\\xcb\\x98cnK\\xb5\\x05\\x07\\xb4]\\x9e\\xd5 !\\xf5\\xf31\\n\\xe2Vw\\xa5>:\\xc8i\\xd9\\xd2\\x19x\\xfe\\x811\\n\\xe2Vw\\xa5>:\\xc8i\\xd9\\xd2\\x19x\\xfe\\x811\\n\\xe2Vw\\xa5>:\\xc8i\\xd9\\xd2\\x19x\\xfe\\x811\\n\\xe2Vw\\xa5>:\\xc8i\\xd9\\xd2\\x19x\\xfe\\x811\\n\\xe2Vw\\xa5>:\\xc8i\\xd9\\xd2\\x19x\\xfe\\x811\\n\\xe2Vw\\xa5>:\\xc8i\\xd9\\xd2\\x19x\\xfe\\x811\\n\\xe2Vw\\xa5>:\\xc8i\\xd9\\xd2\\x19x\\xfe\\x811\\n\\xe2Vw\\xa5>:\\xc8i\\xd9\\xd2\\x19x\\xfe\\x811\\n\\xe2Vw\\xa5>:\\xc8i\\xd9\\xd2\\x19x\\xfe\\x811\\n\\xe2Vw\\xa5>:\\xc8i\\xd9\\xd2\\x19x\\xfe\\x811\\n\\xe2Vw\\xa5>:\\xc8i\\xd9\\xd2\\x19x\\xfe\\x811\\n\\xe2Vw\\xa5>:\\xc8i\\xd9\\xd2\\x19x\\xfe\\x81'\n",
      "\n",
      "El texto plano es \"Criptografia 2023hhgfghdfgdgfdgfdgfd vb 7889&/(/()())\"\n",
      "\n"
     ]
    }
   ],
   "source": [
    "import os\n",
    "\n",
    "from Crypto.Cipher import AES\n",
    "from Crypto.Util.Padding import pad, unpad\n",
    "\n",
    "BLOCK_SIZE = 256 # Bytes\n",
    "\n",
    "clave = os.urandom(16)\n",
    "aes = AES.new(clave, AES.MODE_ECB)\n",
    "\n",
    "def cifrar(aes, cadena):\n",
    "    return aes.encrypt(pad(bytes(cadena, 'utf-8'), BLOCK_SIZE))\n",
    "    \n",
    "def descifrar(aes,cadena):\n",
    "    return unpad(aes.decrypt(cadena), BLOCK_SIZE).decode()\n",
    "\n",
    "texto_original = 'Criptografia 2023hhgfghdfgdgfdgfdgfd vb 7889&/(/()())'\n",
    "\n",
    "texto_cifrado = cifrar(aes, texto_original)\n",
    "\n",
    "texto_plano =  descifrar(aes,texto_cifrado)\n",
    "\n",
    "print('El texto original es \"{}\"'.format(texto_original))\n",
    "print()\n",
    "print('El texto cifrado es {}'.format(texto_cifrado))\n",
    "print()\n",
    "print('El texto plano es \"{}\"'.format(texto_plano))\n",
    "print()"
   ]
  },
  {
   "cell_type": "code",
   "execution_count": null,
   "id": "f7c971b8",
   "metadata": {},
   "outputs": [],
   "source": []
  },
  {
   "cell_type": "code",
   "execution_count": null,
   "id": "83323112",
   "metadata": {},
   "outputs": [],
   "source": []
  }
 ],
 "metadata": {
  "hide_input": false,
  "kernelspec": {
   "display_name": "Python 3 (ipykernel)",
   "language": "python",
   "name": "python3"
  },
  "language_info": {
   "codemirror_mode": {
    "name": "ipython",
    "version": 3
   },
   "file_extension": ".py",
   "mimetype": "text/x-python",
   "name": "python",
   "nbconvert_exporter": "python",
   "pygments_lexer": "ipython3",
   "version": "3.9.13"
  },
  "varInspector": {
   "cols": {
    "lenName": "50",
    "lenType": 16,
    "lenVar": 40
   },
   "kernels_config": {
    "python": {
     "delete_cmd_postfix": "",
     "delete_cmd_prefix": "del ",
     "library": "var_list.py",
     "varRefreshCmd": "print(var_dic_list())"
    },
    "r": {
     "delete_cmd_postfix": ") ",
     "delete_cmd_prefix": "rm(",
     "library": "var_list.r",
     "varRefreshCmd": "cat(var_dic_list()) "
    }
   },
   "types_to_exclude": [
    "module",
    "function",
    "builtin_function_or_method",
    "instance",
    "_Feature"
   ],
   "window_display": false
  }
 },
 "nbformat": 4,
 "nbformat_minor": 5
}
