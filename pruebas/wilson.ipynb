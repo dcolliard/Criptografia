{
 "cells": [
  {
   "cell_type": "code",
   "execution_count": 1,
   "id": "a956a329",
   "metadata": {},
   "outputs": [],
   "source": [
    "import math\n",
    "\n",
    "from sympy import randprime"
   ]
  },
  {
   "cell_type": "code",
   "execution_count": 2,
   "id": "7f4084d9",
   "metadata": {},
   "outputs": [],
   "source": [
    "from functools import wraps\n",
    "import time\n",
    "\n",
    "\n",
    "def timeit(func):\n",
    "    @wraps(func)\n",
    "    def timeit_wrapper(*args, **kwargs):\n",
    "        start_time = time.perf_counter()\n",
    "        result = func(*args, **kwargs)\n",
    "        end_time = time.perf_counter()\n",
    "        total_time = end_time - start_time\n",
    "        print(f'Function {func.__name__}{args} {kwargs} Took {total_time:.4f} seconds')      \n",
    "        #return result\n",
    "        return total_time\n",
    "    return timeit_wrapper\n",
    "\n",
    "\n",
    "@timeit\n",
    "def esPrimo(n):\n",
    "    if n<2:\n",
    "        return False\n",
    "    if n>2 and n%2==0:\n",
    "        return False\n",
    "    for i in range(3,round(math.sqrt(n))+1,2):\n",
    "        if(n%i==0):\n",
    "            return False\n",
    "    return True\n",
    "\n",
    "@timeit\n",
    "def wilson(n):\n",
    "    if n==1:\n",
    "        return False\n",
    "    e = (math.factorial(n-1) + 1) % n\n",
    "    if e == 0 :\n",
    "        return True\n",
    "    else:\n",
    "        return False"
   ]
  },
  {
   "cell_type": "code",
   "execution_count": 3,
   "id": "664fd88d",
   "metadata": {},
   "outputs": [],
   "source": [
    "list_aleatorios = list()\n",
    "\n",
    "\n",
    "BYTES_MIN = 2\n",
    "BYTES_MAX = BYTES_MIN + 1 \n",
    "\n",
    "\n",
    "for i in range(0,10):\n",
    "    list_aleatorios.append(randprime(2**(8 * BYTES_MIN), 2**(8 * BYTES_MAX)))\n",
    "    \n",
    "list_aleatorios.sort()"
   ]
  },
  {
   "cell_type": "code",
   "execution_count": 4,
   "id": "101ae841",
   "metadata": {},
   "outputs": [
    {
     "name": "stdout",
     "output_type": "stream",
     "text": [
      "Function esPrimo(5243993,) {} Took 0.0001 seconds\n",
      "Function esPrimo(6018781,) {} Took 0.0001 seconds\n",
      "Function esPrimo(7228979,) {} Took 0.0001 seconds\n",
      "Function esPrimo(7591439,) {} Took 0.0001 seconds\n",
      "Function esPrimo(8800997,) {} Took 0.0001 seconds\n",
      "Function esPrimo(9010907,) {} Took 0.0001 seconds\n",
      "Function esPrimo(9359017,) {} Took 0.0001 seconds\n",
      "Function esPrimo(13211101,) {} Took 0.0001 seconds\n",
      "Function esPrimo(13261103,) {} Took 0.0001 seconds\n",
      "Function esPrimo(13332769,) {} Took 0.0001 seconds\n"
     ]
    }
   ],
   "source": [
    "lista_esPrimo = list()\n",
    "lista_wilson = list()\n",
    "\n",
    "for i in list_aleatorios:\n",
    "    lista_esPrimo.append(esPrimo(i))"
   ]
  },
  {
   "cell_type": "code",
   "execution_count": 5,
   "id": "56276a04",
   "metadata": {},
   "outputs": [
    {
     "name": "stdout",
     "output_type": "stream",
     "text": [
      "Function wilson(5243993,) {} Took 107.7671 seconds\n",
      "Function wilson(6018781,) {} Took 140.5332 seconds\n",
      "Function wilson(7228979,) {} Took 177.9302 seconds\n",
      "Function wilson(7591439,) {} Took 186.0128 seconds\n",
      "Function wilson(8800997,) {} Took 238.7261 seconds\n",
      "Function wilson(9010907,) {} Took 254.4848 seconds\n",
      "Function wilson(9359017,) {} Took 280.9812 seconds\n",
      "Function wilson(13211101,) {} Took 480.2287 seconds\n",
      "Function wilson(13261103,) {} Took 508.6008 seconds\n",
      "Function wilson(13332769,) {} Took 505.6079 seconds\n"
     ]
    }
   ],
   "source": [
    "for i in list_aleatorios:\n",
    "    lista_wilson.append(wilson(i))"
   ]
  },
  {
   "cell_type": "code",
   "execution_count": 6,
   "id": "0a423749",
   "metadata": {},
   "outputs": [
    {
     "data": {
      "image/png": "[encoded data removed]",
      "text/plain": [
       "<Figure size 640x480 with 1 Axes>"
      ]
     },
     "metadata": {},
     "output_type": "display_data"
    }
   ],
   "source": [
    "import matplotlib.pyplot as plt\n",
    "\n",
    "plt.plot(list_aleatorios,lista_esPrimo, color = 'blue')\n",
    "plt.plot(list_aleatorios,lista_wilson, color = 'red')\n",
    "plt.show()"
   ]
  },
  {
   "cell_type": "code",
   "execution_count": null,
   "id": "d8f4548a",
   "metadata": {},
   "outputs": [],
   "source": []
  },
  {
   "cell_type": "code",
   "execution_count": null,
   "id": "2b51af4a",
   "metadata": {},
   "outputs": [],
   "source": []
  },
  {
   "cell_type": "code",
   "execution_count": null,
   "id": "3d5f67c6",
   "metadata": {},
   "outputs": [],
   "source": []
  },
  {
   "cell_type": "code",
   "execution_count": null,
   "id": "c01a0963",
   "metadata": {},
   "outputs": [],
   "source": []
  }
 ],
 "metadata": {
  "hide_input": false,
  "kernelspec": {
   "display_name": "Python 3 (ipykernel)",
   "language": "python",
   "name": "python3"
  },
  "language_info": {
   "codemirror_mode": {
    "name": "ipython",
    "version": 3
   },
   "file_extension": ".py",
   "mimetype": "text/x-python",
   "name": "python",
   "nbconvert_exporter": "python",
   "pygments_lexer": "ipython3",
   "version": "3.10.9"
  },
  "varInspector": {
   "cols": {
    "lenName": "50",
    "lenType": 16,
    "lenVar": 40
   },
   "kernels_config": {
    "python": {
     "delete_cmd_postfix": "",
     "delete_cmd_prefix": "del ",
     "library": "var_list.py",
     "varRefreshCmd": "print(var_dic_list())"
    },
    "r": {
     "delete_cmd_postfix": ") ",
     "delete_cmd_prefix": "rm(",
     "library": "var_list.r",
     "varRefreshCmd": "cat(var_dic_list()) "
    }
   },
   "types_to_exclude": [
    "module",
    "function",
    "builtin_function_or_method",
    "instance",
    "_Feature"
   ],
   "window_display": false
  }
 },
 "nbformat": 4,
 "nbformat_minor": 5
}
