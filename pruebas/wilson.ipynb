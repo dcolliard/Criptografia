{
 "cells": [
  {
   "cell_type": "code",
   "execution_count": 1,
   "id": "a956a329",
   "metadata": {},
   "outputs": [],
   "source": [
    "import math\n",
    "\n",
    "from sympy import randprime"
   ]
  },
  {
   "cell_type": "code",
   "execution_count": 2,
   "id": "7f4084d9",
   "metadata": {},
   "outputs": [],
   "source": [
    "from functools import wraps\n",
    "import time\n",
    "\n",
    "\n",
    "def timeit(func):\n",
    "    @wraps(func)\n",
    "    def timeit_wrapper(*args, **kwargs):\n",
    "        start_time = time.perf_counter()\n",
    "        result = func(*args, **kwargs)\n",
    "        end_time = time.perf_counter()\n",
    "        total_time = end_time - start_time\n",
    "        print(f'Function {func.__name__}{args} {kwargs} Took {total_time:.4f} seconds')      \n",
    "        #return result\n",
    "        return total_time\n",
    "    return timeit_wrapper\n",
    "\n",
    "\n",
    "@timeit\n",
    "def esPrimo(n):\n",
    "    if n<2:\n",
    "        return False\n",
    "    if n>2 and n%2==0:\n",
    "        return False\n",
    "    for i in range(3,round(math.sqrt(n))+1,2):\n",
    "        if(n%i==0):\n",
    "            return False\n",
    "    return True\n",
    "\n",
    "@timeit\n",
    "def wilson(n):\n",
    "    if n==1:\n",
    "        return False\n",
    "    e = (math.factorial(n-1) + 1) % n\n",
    "    if e == 0 :\n",
    "        return True\n",
    "    else:\n",
    "        return False"
   ]
  },
  {
   "cell_type": "code",
   "execution_count": 15,
   "id": "664fd88d",
   "metadata": {},
   "outputs": [],
   "source": [
    "list_aleatorios = list()\n",
    "\n",
    "\n",
    "BYTES_MIN = 2\n",
    "BYTES_MAX = BYTES_MIN + 1 \n",
    "\n",
    "\n",
    "for i in range(0,10):\n",
    "    list_aleatorios.append(randprime(2**(8 * BYTES_MIN), 2**(8 * BYTES_MAX)))\n",
    "    \n",
    "list_aleatorios.sort()"
   ]
  },
  {
   "cell_type": "code",
   "execution_count": 16,
   "id": "101ae841",
   "metadata": {},
   "outputs": [
    {
     "name": "stdout",
     "output_type": "stream",
     "text": [
      "Function esPrimo(1570487,) {} Took 0.0000 seconds\n",
      "Function esPrimo(4117081,) {} Took 0.0001 seconds\n",
      "Function esPrimo(6517921,) {} Took 0.0001 seconds\n",
      "Function esPrimo(7335481,) {} Took 0.0001 seconds\n",
      "Function esPrimo(7431719,) {} Took 0.0001 seconds\n",
      "Function esPrimo(10874503,) {} Took 0.0001 seconds\n",
      "Function esPrimo(11947283,) {} Took 0.0001 seconds\n",
      "Function esPrimo(13362299,) {} Took 0.0001 seconds\n",
      "Function esPrimo(15733373,) {} Took 0.0002 seconds\n",
      "Function esPrimo(16053757,) {} Took 0.0001 seconds\n"
     ]
    }
   ],
   "source": [
    "lista_esPrimo = list()\n",
    "lista_wilson = list()\n",
    "\n",
    "for i in list_aleatorios:\n",
    "    lista_esPrimo.append(esPrimo(i))"
   ]
  },
  {
   "cell_type": "code",
   "execution_count": null,
   "id": "56276a04",
   "metadata": {},
   "outputs": [],
   "source": [
    "for i in list_aleatorios:\n",
    "    lista_wilson.append(wilson(i))"
   ]
  },
  {
   "cell_type": "code",
   "execution_count": null,
   "id": "0a423749",
   "metadata": {},
   "outputs": [],
   "source": [
    "import matplotlib.pyplot as plt\n",
    "\n",
    "plt.plot(list_aleatorios,lista_esPrimo, color = 'blue')\n",
    "plt.plot(list_aleatorios,lista_wilson, color = 'red')\n",
    "plt.show()"
   ]
  },
  {
   "cell_type": "code",
   "execution_count": null,
   "id": "d8f4548a",
   "metadata": {},
   "outputs": [],
   "source": []
  },
  {
   "cell_type": "code",
   "execution_count": null,
   "id": "2b51af4a",
   "metadata": {},
   "outputs": [],
   "source": []
  },
  {
   "cell_type": "code",
   "execution_count": null,
   "id": "3d5f67c6",
   "metadata": {},
   "outputs": [],
   "source": []
  },
  {
   "cell_type": "code",
   "execution_count": null,
   "id": "c01a0963",
   "metadata": {},
   "outputs": [],
   "source": []
  }
 ],
 "metadata": {
  "kernelspec": {
   "display_name": "Python 3 (ipykernel)",
   "language": "python",
   "name": "python3"
  },
  "language_info": {
   "codemirror_mode": {
    "name": "ipython",
    "version": 3
   },
   "file_extension": ".py",
   "mimetype": "text/x-python",
   "name": "python",
   "nbconvert_exporter": "python",
   "pygments_lexer": "ipython3",
   "version": "3.9.13"
  }
 },
 "nbformat": 4,
 "nbformat_minor": 5
}
