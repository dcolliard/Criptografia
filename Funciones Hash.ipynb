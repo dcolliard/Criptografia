{
 "cells": [
  {
   "cell_type": "code",
   "execution_count": 1,
   "id": "4d8e734e",
   "metadata": {},
   "outputs": [],
   "source": [
    "import hashlib"
   ]
  },
  {
   "cell_type": "markdown",
   "id": "de994227",
   "metadata": {},
   "source": [
    "# MD5"
   ]
  },
  {
   "cell_type": "code",
   "execution_count": 5,
   "id": "f9ca9fa5",
   "metadata": {},
   "outputs": [
    {
     "data": {
      "text/plain": [
       "'3b90fd8103624c2ae9c7c50f32459fdc'"
      ]
     },
     "execution_count": 5,
     "metadata": {},
     "output_type": "execute_result"
    }
   ],
   "source": [
    "cadena = 'Cripto'\n",
    "\n",
    "hashlib.md5(cadena.encode()).hexdigest()"
   ]
  },
  {
   "cell_type": "code",
   "execution_count": 7,
   "id": "1b875b2b",
   "metadata": {},
   "outputs": [
    {
     "data": {
      "text/plain": [
       "'97d2f3c97e28a0ea5d15053cf5d52c57'"
      ]
     },
     "execution_count": 7,
     "metadata": {},
     "output_type": "execute_result"
    }
   ],
   "source": [
    "cadena2 = 'Criptografia'\n",
    "\n",
    "hashlib.md5(cadena2.encode()).hexdigest()"
   ]
  },
  {
   "cell_type": "markdown",
   "id": "0f7a9566",
   "metadata": {},
   "source": [
    "# SHA"
   ]
  },
  {
   "cell_type": "code",
   "execution_count": 8,
   "id": "0abd7c19",
   "metadata": {},
   "outputs": [
    {
     "data": {
      "text/plain": [
       "'24c77e18ce151531ef437fe42d4c10e507ebf22d'"
      ]
     },
     "execution_count": 8,
     "metadata": {},
     "output_type": "execute_result"
    }
   ],
   "source": [
    "cadena = 'Cripto'\n",
    "\n",
    "hashlib.sha1(cadena.encode()).hexdigest()"
   ]
  },
  {
   "cell_type": "code",
   "execution_count": 9,
   "id": "1c9042b0",
   "metadata": {},
   "outputs": [
    {
     "data": {
      "text/plain": [
       "'24d4a5d6d596da458394d06c61a1268ed93c6729'"
      ]
     },
     "execution_count": 9,
     "metadata": {},
     "output_type": "execute_result"
    }
   ],
   "source": [
    "cadena2 = 'Criptografia'\n",
    "\n",
    "hashlib.sha1(cadena2.encode()).hexdigest()"
   ]
  },
  {
   "cell_type": "code",
   "execution_count": null,
   "id": "4f20b7f5",
   "metadata": {},
   "outputs": [],
   "source": []
  }
 ],
 "metadata": {
  "kernelspec": {
   "display_name": "Python 3 (ipykernel)",
   "language": "python",
   "name": "python3"
  },
  "language_info": {
   "codemirror_mode": {
    "name": "ipython",
    "version": 3
   },
   "file_extension": ".py",
   "mimetype": "text/x-python",
   "name": "python",
   "nbconvert_exporter": "python",
   "pygments_lexer": "ipython3",
   "version": "3.9.13"
  }
 },
 "nbformat": 4,
 "nbformat_minor": 5
}
