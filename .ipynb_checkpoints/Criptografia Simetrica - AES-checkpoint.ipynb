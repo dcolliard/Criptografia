{
 "cells": [
  {
   "cell_type": "code",
   "execution_count": 3,
   "id": "9c7ca038",
   "metadata": {},
   "outputs": [
    {
     "name": "stdout",
     "output_type": "stream",
     "text": [
      "El texto original es \"Criptografia 2023\"\n",
      "\n",
      "El texto cifrado es b'\\x1fC<\\x86\\xacs@8\\xe2S6J\\xb6\\xcdR\\xf5Ip\\x1f}\\xd9\\x00\\xef\\x9b\\x0f\\xa7\\x18\\xfe\\x177C\\xae'\n",
      "\n",
      "El texto plano es \"Criptografia 2023\"\n",
      "\n"
     ]
    }
   ],
   "source": [
    "import os\n",
    "\n",
    "from Crypto.Cipher import DES\n",
    "from Crypto.Util.Padding import pad, unpad\n",
    "\n",
    "BLOCK_SIZE = 32 # Bytes\n",
    "\n",
    "clave = os.urandom(8)\n",
    "des = DES.new(clave, DES.MODE_ECB)\n",
    "\n",
    "def cifrar(des, cadena):\n",
    "    return des.encrypt(pad(bytes(cadena, 'utf-8'), BLOCK_SIZE))\n",
    "    \n",
    "def descifrar(des,cadena):\n",
    "    return unpad(des.decrypt(cadena), BLOCK_SIZE).decode()\n",
    "\n",
    "texto_original = 'Criptografia 2023'\n",
    "\n",
    "texto_cifrado = cifrar(des, texto_original)\n",
    "\n",
    "texto_plano =  descifrar(des,texto_cifrado)\n",
    "\n",
    "print('El texto original es \"{}\"'.format(texto_original))\n",
    "print()\n",
    "print('El texto cifrado es {}'.format(texto_cifrado))\n",
    "print()\n",
    "print('El texto plano es \"{}\"'.format(texto_plano))\n",
    "print()"
   ]
  },
  {
   "cell_type": "code",
   "execution_count": null,
   "id": "f7c971b8",
   "metadata": {},
   "outputs": [],
   "source": []
  },
  {
   "cell_type": "code",
   "execution_count": null,
   "id": "83323112",
   "metadata": {},
   "outputs": [],
   "source": []
  }
 ],
 "metadata": {
  "kernelspec": {
   "display_name": "Python 3 (ipykernel)",
   "language": "python",
   "name": "python3"
  },
  "language_info": {
   "codemirror_mode": {
    "name": "ipython",
    "version": 3
   },
   "file_extension": ".py",
   "mimetype": "text/x-python",
   "name": "python",
   "nbconvert_exporter": "python",
   "pygments_lexer": "ipython3",
   "version": "3.9.13"
  }
 },
 "nbformat": 4,
 "nbformat_minor": 5
}
