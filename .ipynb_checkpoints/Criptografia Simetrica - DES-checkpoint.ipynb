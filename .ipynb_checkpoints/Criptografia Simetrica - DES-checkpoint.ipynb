{
 "cells": [
  {
   "cell_type": "code",
   "execution_count": 2,
   "id": "9c7ca038",
   "metadata": {},
   "outputs": [
    {
     "ename": "ModuleNotFoundError",
     "evalue": "No module named 'Crypto'",
     "output_type": "error",
     "traceback": [
      "\u001b[1;31m---------------------------------------------------------------------------\u001b[0m",
      "\u001b[1;31mModuleNotFoundError\u001b[0m                       Traceback (most recent call last)",
      "\u001b[1;32m~\\AppData\\Local\\Temp\\ipykernel_4112\\1641839729.py\u001b[0m in \u001b[0;36m<module>\u001b[1;34m\u001b[0m\n\u001b[0;32m      1\u001b[0m \u001b[1;32mimport\u001b[0m \u001b[0mos\u001b[0m\u001b[1;33m\u001b[0m\u001b[1;33m\u001b[0m\u001b[0m\n\u001b[0;32m      2\u001b[0m \u001b[1;33m\u001b[0m\u001b[0m\n\u001b[1;32m----> 3\u001b[1;33m \u001b[1;32mfrom\u001b[0m \u001b[0mCrypto\u001b[0m\u001b[1;33m.\u001b[0m\u001b[0mCipher\u001b[0m \u001b[1;32mimport\u001b[0m \u001b[0mDES\u001b[0m\u001b[1;33m\u001b[0m\u001b[1;33m\u001b[0m\u001b[0m\n\u001b[0m\u001b[0;32m      4\u001b[0m \u001b[1;32mfrom\u001b[0m \u001b[0mCrypto\u001b[0m\u001b[1;33m.\u001b[0m\u001b[0mUtil\u001b[0m\u001b[1;33m.\u001b[0m\u001b[0mPadding\u001b[0m \u001b[1;32mimport\u001b[0m \u001b[0mpad\u001b[0m\u001b[1;33m,\u001b[0m \u001b[0munpad\u001b[0m\u001b[1;33m\u001b[0m\u001b[1;33m\u001b[0m\u001b[0m\n\u001b[0;32m      5\u001b[0m \u001b[1;33m\u001b[0m\u001b[0m\n",
      "\u001b[1;31mModuleNotFoundError\u001b[0m: No module named 'Crypto'"
     ]
    }
   ],
   "source": [
    "import os\n",
    "\n",
    "from Crypto.Cipher import DES\n",
    "from Crypto.Util.Padding import pad, unpad\n",
    "\n",
    "BLOCK_SIZE = 32 # Bytes\n",
    "\n",
    "clave = os.urandom(8)\n",
    "des = DES.new(clave, DES.MODE_ECB)\n",
    "\n",
    "def cifrar(des, cadena):\n",
    "    return des.encrypt(pad(bytes(cadena, 'utf-8'), BLOCK_SIZE))\n",
    "    \n",
    "def descifrar(des,cadena):\n",
    "    return unpad(des.decrypt(cadena), BLOCK_SIZE).decode()\n",
    "\n",
    "texto_original = 'Criptografia 2023'\n",
    "\n",
    "texto_cifrado = cifrar(des, texto_original)\n",
    "\n",
    "texto_plano =  descifrar(des,texto_cifrado)\n",
    "\n",
    "print('El texto original es \"{}\"'.format(texto_original))\n",
    "print()\n",
    "print('El texto cifrado es {}'.format(texto_cifrado))\n",
    "print()\n",
    "print('El texto plano es \"{}\"'.format(texto_plano))\n",
    "print()"
   ]
  },
  {
   "cell_type": "code",
   "execution_count": 1,
   "id": "f7c971b8",
   "metadata": {},
   "outputs": [
    {
     "ename": "NameError",
     "evalue": "name 'os' is not defined",
     "output_type": "error",
     "traceback": [
      "\u001b[1;31m---------------------------------------------------------------------------\u001b[0m",
      "\u001b[1;31mNameError\u001b[0m                                 Traceback (most recent call last)",
      "\u001b[1;32m~\\AppData\\Local\\Temp\\ipykernel_4112\\3184855420.py\u001b[0m in \u001b[0;36m<module>\u001b[1;34m\u001b[0m\n\u001b[1;32m----> 1\u001b[1;33m \u001b[0mos\u001b[0m\u001b[1;33m.\u001b[0m\u001b[0murandom\u001b[0m\u001b[1;33m(\u001b[0m\u001b[1;36m8\u001b[0m\u001b[1;33m)\u001b[0m\u001b[1;33m\u001b[0m\u001b[1;33m\u001b[0m\u001b[0m\n\u001b[0m",
      "\u001b[1;31mNameError\u001b[0m: name 'os' is not defined"
     ]
    }
   ],
   "source": [
    "os.urandom(8)"
   ]
  },
  {
   "cell_type": "code",
   "execution_count": null,
   "id": "83323112",
   "metadata": {},
   "outputs": [],
   "source": []
  }
 ],
 "metadata": {
  "kernelspec": {
   "display_name": "Python 3 (ipykernel)",
   "language": "python",
   "name": "python3"
  },
  "language_info": {
   "codemirror_mode": {
    "name": "ipython",
    "version": 3
   },
   "file_extension": ".py",
   "mimetype": "text/x-python",
   "name": "python",
   "nbconvert_exporter": "python",
   "pygments_lexer": "ipython3",
   "version": "3.9.13"
  }
 },
 "nbformat": 4,
 "nbformat_minor": 5
}
